{
 "cells": [
  {
   "cell_type": "code",
   "execution_count": 7,
   "id": "05e7eafa",
   "metadata": {},
   "outputs": [],
   "source": [
    "import numpy as np\n",
    "import pandas as pd\n",
    "import matplotlib.pyplot as plt\n",
    "import warnings\n",
    "import scipy.stats\n",
    "from ipywidgets import interact, IntSlider\n",
    "import script\n",
    "warnings.filterwarnings(\"ignore\")"
   ]
  },
  {
   "cell_type": "code",
   "execution_count": 8,
   "id": "6b51c66b",
   "metadata": {},
   "outputs": [],
   "source": [
    "df_filtered = pd.read_csv(\"data.csv\", sep=\";\")\n",
    "df, test_df, yapp_Q1, yapp_Q2, yapp_Q3, z2, z3 = script.process_data(df_filtered)\n",
    "data_estimacion2 = pd.DataFrame({'bornite': z2, 'chalcocite': z3, 'Recovery_e': yapp_Q2})\n",
    "test_df[\"Z1_estimated\"] = data_estimacion2[\"Recovery_e\"].values\n",
    "df_unido = pd.concat([df, test_df], axis=0)\n",
    "df_unido['Z1_estimated'].fillna(df_unido['recovery'], inplace=True)"
   ]
  },
  {
   "cell_type": "code",
   "execution_count": 9,
   "id": "43350a07",
   "metadata": {},
   "outputs": [
    {
     "data": {
      "application/vnd.jupyter.widget-view+json": {
       "model_id": "90b84884514f4ed6bf213e08ddbb213b",
       "version_major": 2,
       "version_minor": 0
      },
      "text/plain": [
       "interactive(children=(IntSlider(value=-444, description='start_midy', max=578, min=-444, step=20), Output()), …"
      ]
     },
     "metadata": {},
     "output_type": "display_data"
    }
   ],
   "source": [
    "min_y, max_y = df_filtered['midy'].min(), df_filtered['midy'].max()\n",
    "paso = 20  \n",
    "vmin = 70\n",
    "vmax = 90\n",
    "def plot_section(start_midy):\n",
    "    end_midy = start_midy + paso  \n",
    "    df_section_1 = df_filtered[(df_filtered['midy'] >= start_midy) & (df_filtered['midy'] < end_midy)]\n",
    "    df_section_2 = df_unido[(df_unido['midy'] >= start_midy) & (df_unido['midy'] < end_midy)]\n",
    "    df_section_3 = df[(df['midy'] >= start_midy) & (df['midy'] < end_midy)]\n",
    "\n",
    "    if df_section_1.empty or df_section_2.empty or df_section_3.empty:\n",
    "        print(f\"No hay datos en el rango midy: {start_midy} - {end_midy}\")\n",
    "        return\n",
    "    fig, axs = plt.subplots(2, 2, figsize=(18, 12))\n",
    "    scatter1 = axs[0, 0].scatter(df_section_1['midx'], df_section_1['midz'], \n",
    "                                 c=df_section_1['chalcocite'], cmap='plasma', edgecolors='k', alpha=0.75)\n",
    "    axs[0, 0].set_xlabel(\"midx\")\n",
    "    axs[0, 0].set_ylabel(\"midz\")\n",
    "    axs[0, 0].set_title(f\"Northing: {start_midy} - {end_midy} (Chalcocite)\", size=18)\n",
    "    axs[0,0].set_xlim(-500, 500)\n",
    "    axs[0,0].set_ylim(2100, 2600)\n",
    "    fig.colorbar(scatter1, ax=axs[0, 0], label='%')\n",
    "    scatter2 = axs[0, 1].scatter(df_section_1['midx'], df_section_1['midz'], \n",
    "                                 c=df_section_1['bornite'], cmap='plasma', edgecolors='k', alpha=0.75)\n",
    "    axs[0, 1].set_xlabel(\"midx\")\n",
    "    axs[0, 1].set_ylabel(\"midz\")\n",
    "    axs[0, 1].set_title(f\"Northing: {start_midy} - {end_midy} (Bornite)\", size=18)\n",
    "    axs[0,1].set_xlim(-500, 500)\n",
    "    axs[0,1].set_ylim(2100, 2600)\n",
    "    fig.colorbar(scatter2, ax=axs[0, 1], label='%')\n",
    "    scatter3 = axs[1, 0].scatter(df_section_3['midx'], df_section_3['midz'], \n",
    "                                 c=df_section_3['recovery'], cmap='viridis', edgecolors='k', alpha=0.75, \n",
    "                                 vmin=vmin, vmax=vmax)\n",
    "    axs[1, 0].set_xlabel(\"midx\")\n",
    "    axs[1, 0].set_ylabel(\"midz\")\n",
    "    axs[1, 0].set_title(f\"Northing: {start_midy} - {end_midy} (Recovery)\", size=18)\n",
    "    axs[1,0].set_xlim(-500, 500)\n",
    "    axs[1,0].set_ylim(2100, 2600)\n",
    "    fig.colorbar(scatter3, ax=axs[1, 0], label='%')\n",
    "    scatter4 = axs[1, 1].scatter(df_section_2['midx'], df_section_2['midz'], \n",
    "                                 c=df_section_2['Z1_estimated'], cmap='viridis', edgecolors='k', alpha=0.75, \n",
    "                                 vmin=vmin, vmax=vmax)\n",
    "    axs[1, 1].set_xlabel(\"midx\")\n",
    "    axs[1, 1].set_ylabel(\"midz\")\n",
    "    axs[1, 1].set_title(f\"Northing: {start_midy} - {end_midy} (Recovery Regression)\", size=18)\n",
    "    axs[1,1].set_xlim(-500, 500)\n",
    "    axs[1,1].set_ylim(2100, 2600)\n",
    "    fig.colorbar(scatter4, ax=axs[1, 1], label='%')\n",
    "    plt.tight_layout()\n",
    "    plt.show()\n",
    "interact(plot_section, start_midy=IntSlider(min=int(min_y), max=int(max_y - paso), step=paso, value=int(min_y)));"
   ]
  }
 ],
 "metadata": {
  "kernelspec": {
   "display_name": "Python 3 (ipykernel)",
   "language": "python",
   "name": "python3"
  },
  "language_info": {
   "codemirror_mode": {
    "name": "ipython",
    "version": 3
   },
   "file_extension": ".py",
   "mimetype": "text/x-python",
   "name": "python",
   "nbconvert_exporter": "python",
   "pygments_lexer": "ipython3",
   "version": "3.10.9"
  }
 },
 "nbformat": 4,
 "nbformat_minor": 5
}
